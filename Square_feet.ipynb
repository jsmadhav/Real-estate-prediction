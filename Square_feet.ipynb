{
  "nbformat": 4,
  "nbformat_minor": 0,
  "metadata": {
    "colab": {
      "name": "Square feet.ipynb",
      "provenance": []
    },
    "kernelspec": {
      "name": "python3",
      "display_name": "Python 3"
    }
  },
  "cells": [
    {
      "cell_type": "code",
      "metadata": {
        "id": "GbqWkjGhfFsl",
        "colab_type": "code",
        "colab": {
          "resources": {
            "http://localhost:8080/nbextensions/google.colab/files.js": {
              "data": "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",
              "ok": true,
              "headers": [
                [
                  "content-type",
                  "application/javascript"
                ]
              ],
              "status": 200,
              "status_text": ""
            }
          },
          "base_uri": "https://localhost:8080/",
          "height": 73
        },
        "outputId": "17db6392-9b4c-4dd5-d8af-bdd68326c04b"
      },
      "source": [
        "from google.colab import files\n",
        "uploaded = files.upload()"
      ],
      "execution_count": null,
      "outputs": [
        {
          "output_type": "display_data",
          "data": {
            "text/html": [
              "\n",
              "     <input type=\"file\" id=\"files-481febf9-2683-4c35-b107-e9c8ed0da9e3\" name=\"files[]\" multiple disabled\n",
              "        style=\"border:none\" />\n",
              "     <output id=\"result-481febf9-2683-4c35-b107-e9c8ed0da9e3\">\n",
              "      Upload widget is only available when the cell has been executed in the\n",
              "      current browser session. Please rerun this cell to enable.\n",
              "      </output>\n",
              "      <script src=\"/nbextensions/google.colab/files.js\"></script> "
            ],
            "text/plain": [
              "<IPython.core.display.HTML object>"
            ]
          },
          "metadata": {
            "tags": []
          }
        },
        {
          "output_type": "stream",
          "text": [
            "Saving sqrt.xlsx to sqrt.xlsx\n"
          ],
          "name": "stdout"
        }
      ]
    },
    {
      "cell_type": "code",
      "metadata": {
        "id": "oQuBC4xYUKln",
        "colab_type": "code",
        "colab": {}
      },
      "source": [
        "from google.colab import drive\n",
        "drive.mount('/content/drive')"
      ],
      "execution_count": null,
      "outputs": []
    },
    {
      "cell_type": "code",
      "metadata": {
        "id": "sWnvorOMfkFW",
        "colab_type": "code",
        "colab": {}
      },
      "source": [
        "import io\n",
        "import pandas as pd\n",
        "df = pd.read_excel(io.BytesIO(uploaded['sqrt.xlsx']))\n",
        "dt = pd.read_excel(io.BytesIO(uploaded['sqrt.xlsx']))"
      ],
      "execution_count": null,
      "outputs": []
    },
    {
      "cell_type": "code",
      "metadata": {
        "id": "CQ_Y8PD3OVjX",
        "colab_type": "code",
        "colab": {}
      },
      "source": [
        "import numpy as np\n",
        "import matplotlib.pyplot as plt\n",
        "import seaborn as sns\n",
        "from sklearn.cluster import KMeans\n",
        "from sklearn.preprocessing import OrdinalEncoder\n",
        "from sklearn.preprocessing import scale\n",
        "from sklearn.preprocessing import StandardScaler, normalize\n",
        "from sklearn.decomposition import PCA\n",
        "from sklearn.metrics import silhouette_score\n",
        "from fancyimpute import  KNN\n",
        "import warnings\n",
        "import os\n",
        "warnings.filterwarnings(\"ignore\")"
      ],
      "execution_count": null,
      "outputs": []
    },
    {
      "cell_type": "code",
      "metadata": {
        "id": "zCNR4hYlWAQ_",
        "colab_type": "code",
        "colab": {
          "base_uri": "https://localhost:8080/",
          "height": 450
        },
        "outputId": "da37df6f-59fd-482d-db26-306c97c33e41"
      },
      "source": [
        "df.head()"
      ],
      "execution_count": null,
      "outputs": [
        {
          "output_type": "execute_result",
          "data": {
            "text/html": [
              "<div>\n",
              "<style scoped>\n",
              "    .dataframe tbody tr th:only-of-type {\n",
              "        vertical-align: middle;\n",
              "    }\n",
              "\n",
              "    .dataframe tbody tr th {\n",
              "        vertical-align: top;\n",
              "    }\n",
              "\n",
              "    .dataframe thead th {\n",
              "        text-align: right;\n",
              "    }\n",
              "</style>\n",
              "<table border=\"1\" class=\"dataframe\">\n",
              "  <thead>\n",
              "    <tr style=\"text-align: right;\">\n",
              "      <th></th>\n",
              "      <th>AGE</th>\n",
              "      <th>ADDRESS</th>\n",
              "      <th>AREA</th>\n",
              "      <th>CITY/STATE/COUNTRY</th>\n",
              "      <th>BANGALORE(Y/N)</th>\n",
              "      <th>NRI / NON NRI</th>\n",
              "      <th>PINCODE</th>\n",
              "      <th>TYPE OF COMPLEX</th>\n",
              "      <th>multiple complex</th>\n",
              "      <th>FLAT/PLOT</th>\n",
              "      <th>TYPE OF FLAT</th>\n",
              "      <th>PLOT(Y/N)</th>\n",
              "      <th>NO OF PLOTS</th>\n",
              "      <th>TOTAL UNIT COST</th>\n",
              "      <th>YEAR BUCKET</th>\n",
              "      <th>RELIGION SORTED</th>\n",
              "      <th>CATEGORY SORTED</th>\n",
              "      <th>CASTE SORTED</th>\n",
              "      <th>LANGUAGE</th>\n",
              "      <th>COMMUNITY</th>\n",
              "      <th>Square feet</th>\n",
              "      <th>Square feet range</th>\n",
              "    </tr>\n",
              "  </thead>\n",
              "  <tbody>\n",
              "    <tr>\n",
              "      <th>0</th>\n",
              "      <td>NaN</td>\n",
              "      <td>0</td>\n",
              "      <td>NaN</td>\n",
              "      <td>NaN</td>\n",
              "      <td>N</td>\n",
              "      <td>NaN</td>\n",
              "      <td>0</td>\n",
              "      <td>Aqua</td>\n",
              "      <td>NaN</td>\n",
              "      <td>FLAT</td>\n",
              "      <td>NaN</td>\n",
              "      <td>N</td>\n",
              "      <td>0</td>\n",
              "      <td>5260810</td>\n",
              "      <td>YR_5</td>\n",
              "      <td>Hindu</td>\n",
              "      <td>General</td>\n",
              "      <td>OtherUpperCaste</td>\n",
              "      <td>Bengali</td>\n",
              "      <td>Bengali,Odiya,Punjabi</td>\n",
              "      <td>4594.59</td>\n",
              "      <td>4500 to 5000</td>\n",
              "    </tr>\n",
              "    <tr>\n",
              "      <th>1</th>\n",
              "      <td>NaN</td>\n",
              "      <td>Mr. Savina G B No.13 Gare Ravikumar Layout Byc...</td>\n",
              "      <td>Devanahalli</td>\n",
              "      <td>BANGALORE</td>\n",
              "      <td>Y</td>\n",
              "      <td>NO</td>\n",
              "      <td>562110</td>\n",
              "      <td>Aqua</td>\n",
              "      <td>No</td>\n",
              "      <td>FLAT</td>\n",
              "      <td>NaN</td>\n",
              "      <td>N</td>\n",
              "      <td>0</td>\n",
              "      <td>5526317</td>\n",
              "      <td>YR_5</td>\n",
              "      <td>NaN</td>\n",
              "      <td>NaN</td>\n",
              "      <td>NaN</td>\n",
              "      <td>NaN</td>\n",
              "      <td>NaN</td>\n",
              "      <td>4589.96</td>\n",
              "      <td>4500 to 5000</td>\n",
              "    </tr>\n",
              "    <tr>\n",
              "      <th>2</th>\n",
              "      <td>NaN</td>\n",
              "      <td>0</td>\n",
              "      <td>NaN</td>\n",
              "      <td>NaN</td>\n",
              "      <td>N</td>\n",
              "      <td>NaN</td>\n",
              "      <td>0</td>\n",
              "      <td>Aqua</td>\n",
              "      <td>NaN</td>\n",
              "      <td>FLAT</td>\n",
              "      <td>NaN</td>\n",
              "      <td>N</td>\n",
              "      <td>0</td>\n",
              "      <td>5022020</td>\n",
              "      <td>YR_5</td>\n",
              "      <td>Sikh</td>\n",
              "      <td>General</td>\n",
              "      <td>Jatt</td>\n",
              "      <td>Punjabi</td>\n",
              "      <td>Punjabi</td>\n",
              "      <td>4329.33</td>\n",
              "      <td>4000 to 4500</td>\n",
              "    </tr>\n",
              "    <tr>\n",
              "      <th>3</th>\n",
              "      <td>NaN</td>\n",
              "      <td>Mr.Umer Farooque.P#251st Cross 1st Main L  B S...</td>\n",
              "      <td>H.A.L</td>\n",
              "      <td>BANGALORE</td>\n",
              "      <td>Y</td>\n",
              "      <td>NO</td>\n",
              "      <td>560017</td>\n",
              "      <td>Aqua</td>\n",
              "      <td>No</td>\n",
              "      <td>FLAT</td>\n",
              "      <td>NaN</td>\n",
              "      <td>N</td>\n",
              "      <td>0</td>\n",
              "      <td>4009324</td>\n",
              "      <td>YR_5</td>\n",
              "      <td>NaN</td>\n",
              "      <td>NaN</td>\n",
              "      <td>NaN</td>\n",
              "      <td>NaN</td>\n",
              "      <td>NaN</td>\n",
              "      <td>4278.89</td>\n",
              "      <td>4000 to 4500</td>\n",
              "    </tr>\n",
              "    <tr>\n",
              "      <th>4</th>\n",
              "      <td>NaN</td>\n",
              "      <td>Mr. Ramesh SEmp.No.2720 Honeywell #151/1 Dorai...</td>\n",
              "      <td>Deepanjalinagar</td>\n",
              "      <td>BANGALORE</td>\n",
              "      <td>Y</td>\n",
              "      <td>NO</td>\n",
              "      <td>560026</td>\n",
              "      <td>Aqua</td>\n",
              "      <td>No</td>\n",
              "      <td>FLAT</td>\n",
              "      <td>NaN</td>\n",
              "      <td>N</td>\n",
              "      <td>0</td>\n",
              "      <td>4581436</td>\n",
              "      <td>YR_5</td>\n",
              "      <td>NaN</td>\n",
              "      <td>NaN</td>\n",
              "      <td>NaN</td>\n",
              "      <td>NaN</td>\n",
              "      <td>NaN</td>\n",
              "      <td>4001.25</td>\n",
              "      <td>4000 to 4500</td>\n",
              "    </tr>\n",
              "  </tbody>\n",
              "</table>\n",
              "</div>"
            ],
            "text/plain": [
              "   AGE  ... Square feet range\n",
              "0  NaN  ...      4500 to 5000\n",
              "1  NaN  ...      4500 to 5000\n",
              "2  NaN  ...      4000 to 4500\n",
              "3  NaN  ...      4000 to 4500\n",
              "4  NaN  ...      4000 to 4500\n",
              "\n",
              "[5 rows x 22 columns]"
            ]
          },
          "metadata": {
            "tags": []
          },
          "execution_count": 73
        }
      ]
    },
    {
      "cell_type": "code",
      "metadata": {
        "id": "6HML9t1hOZ5p",
        "colab_type": "code",
        "colab": {}
      },
      "source": [
        "df = df.drop(['ADDRESS','PINCODE','AREA'], axis=1)"
      ],
      "execution_count": null,
      "outputs": []
    },
    {
      "cell_type": "code",
      "metadata": {
        "id": "wBX_s2dsO_Uq",
        "colab_type": "code",
        "colab": {
          "base_uri": "https://localhost:8080/",
          "height": 454
        },
        "outputId": "d6b44f90-5049-4607-fb31-37db272f3c22"
      },
      "source": [
        "df.info()"
      ],
      "execution_count": null,
      "outputs": [
        {
          "output_type": "stream",
          "text": [
            "<class 'pandas.core.frame.DataFrame'>\n",
            "RangeIndex: 742 entries, 0 to 741\n",
            "Data columns (total 19 columns):\n",
            " #   Column              Non-Null Count  Dtype  \n",
            "---  ------              --------------  -----  \n",
            " 0   AGE                 602 non-null    float64\n",
            " 1   CITY/STATE/COUNTRY  518 non-null    object \n",
            " 2   BANGALORE(Y/N)      742 non-null    object \n",
            " 3   NRI / NON NRI       513 non-null    object \n",
            " 4   TYPE OF COMPLEX     742 non-null    object \n",
            " 5   multiple complex    333 non-null    object \n",
            " 6   FLAT/PLOT           742 non-null    object \n",
            " 7   TYPE OF FLAT        621 non-null    object \n",
            " 8   PLOT(Y/N)           742 non-null    object \n",
            " 9   NO OF PLOTS         742 non-null    int64  \n",
            " 10  TOTAL UNIT COST     741 non-null    object \n",
            " 11  YEAR BUCKET         738 non-null    object \n",
            " 12  RELIGION SORTED     245 non-null    object \n",
            " 13  CATEGORY SORTED     245 non-null    object \n",
            " 14  CASTE SORTED        245 non-null    object \n",
            " 15  LANGUAGE            245 non-null    object \n",
            " 16  COMMUNITY           245 non-null    object \n",
            " 17  Square feet         742 non-null    float64\n",
            " 18  Square feet range   742 non-null    object \n",
            "dtypes: float64(2), int64(1), object(16)\n",
            "memory usage: 110.3+ KB\n"
          ],
          "name": "stdout"
        }
      ]
    },
    {
      "cell_type": "code",
      "metadata": {
        "id": "qzMSkcE5Qjhl",
        "colab_type": "code",
        "colab": {}
      },
      "source": [
        "df['CITY/STATE/COUNTRY'] = df['CITY/STATE/COUNTRY'].astype('category')\n",
        "df['BANGALORE(Y/N)'] = df['BANGALORE(Y/N)'].astype('category')\n",
        "df['TYPE OF COMPLEX'] = df['TYPE OF COMPLEX'].astype('category')\n",
        "df['NRI / NON NRI'] = df['NRI / NON NRI'].astype('category')\n",
        "df['multiple complex'] = df['multiple complex'].astype('category')\n",
        "df['FLAT/PLOT'] = df['FLAT/PLOT'].astype('category')\n",
        "df['TYPE OF FLAT'] = df['TYPE OF FLAT'].astype('category')\n",
        "df['PLOT(Y/N)'] = df['PLOT(Y/N)'].astype('category')\n",
        "df['TOTAL UNIT COST'] = df['TOTAL UNIT COST'].astype('category')\n",
        "df['YEAR BUCKET'] = df['YEAR BUCKET'].astype('category')\n",
        "df['RELIGION SORTED'] = df['RELIGION SORTED'].astype('category')\n",
        "df['CATEGORY SORTED'] = df['CATEGORY SORTED'].astype('category')\n",
        "df['CASTE SORTED'] = df['CASTE SORTED'].astype('category')\n",
        "df['LANGUAGE'] = df['LANGUAGE'].astype('category')\n",
        "df['COMMUNITY'] = df['COMMUNITY'].astype('category')\n",
        "df['Square feet range'] = df['Square feet range'].astype('category')"
      ],
      "execution_count": null,
      "outputs": []
    },
    {
      "cell_type": "code",
      "metadata": {
        "id": "wc_D2kbil6M3",
        "colab_type": "code",
        "colab": {}
      },
      "source": [
        "df['CITY/STATE/COUNTRY'] = df['CITY/STATE/COUNTRY'].cat.codes\n",
        "df['BANGALORE(Y/N)'] = df['BANGALORE(Y/N)'].cat.codes\n",
        "df['TYPE OF COMPLEX'] = df['TYPE OF COMPLEX'].cat.codes\n",
        "df['NRI / NON NRI'] = df['NRI / NON NRI'].cat.codes\n",
        "df['multiple complex'] = df['multiple complex'].cat.codes\n",
        "df['FLAT/PLOT'] = df['FLAT/PLOT'].cat.codes\n",
        "df['TYPE OF FLAT'] = df['TYPE OF FLAT'].cat.codes\n",
        "df['PLOT(Y/N)'] = df['PLOT(Y/N)'].cat.codes\n",
        "df['TOTAL UNIT COST'] = df['TOTAL UNIT COST'].cat.codes\n",
        "df['YEAR BUCKET'] = df['YEAR BUCKET'].cat.codes\n",
        "df['RELIGION SORTED'] = df['RELIGION SORTED'].cat.codes\n",
        "df['CATEGORY SORTED'] = df['CATEGORY SORTED'].cat.codes\n",
        "df['CASTE SORTED'] = df['CASTE SORTED'].cat.codes\n",
        "df['LANGUAGE'] = df['LANGUAGE'].cat.codes\n",
        "df['COMMUNITY'] = df['COMMUNITY'].cat.codes\n",
        "df['Square feet range'] = df['Square feet range'].cat.codes"
      ],
      "execution_count": null,
      "outputs": []
    },
    {
      "cell_type": "code",
      "metadata": {
        "id": "zTWwJSlxmQ_I",
        "colab_type": "code",
        "colab": {
          "base_uri": "https://localhost:8080/",
          "height": 454
        },
        "outputId": "3544303d-5f27-4ee0-a045-72ab08e8f780"
      },
      "source": [
        "df.info()"
      ],
      "execution_count": null,
      "outputs": [
        {
          "output_type": "stream",
          "text": [
            "<class 'pandas.core.frame.DataFrame'>\n",
            "RangeIndex: 742 entries, 0 to 741\n",
            "Data columns (total 19 columns):\n",
            " #   Column              Non-Null Count  Dtype  \n",
            "---  ------              --------------  -----  \n",
            " 0   AGE                 602 non-null    float64\n",
            " 1   CITY/STATE/COUNTRY  742 non-null    int8   \n",
            " 2   BANGALORE(Y/N)      742 non-null    int8   \n",
            " 3   NRI / NON NRI       742 non-null    int8   \n",
            " 4   TYPE OF COMPLEX     742 non-null    int8   \n",
            " 5   multiple complex    742 non-null    int8   \n",
            " 6   FLAT/PLOT           742 non-null    int8   \n",
            " 7   TYPE OF FLAT        742 non-null    int8   \n",
            " 8   PLOT(Y/N)           742 non-null    int8   \n",
            " 9   NO OF PLOTS         742 non-null    int64  \n",
            " 10  TOTAL UNIT COST     742 non-null    int16  \n",
            " 11  YEAR BUCKET         742 non-null    int8   \n",
            " 12  RELIGION SORTED     742 non-null    int8   \n",
            " 13  CATEGORY SORTED     742 non-null    int8   \n",
            " 14  CASTE SORTED        742 non-null    int8   \n",
            " 15  LANGUAGE            742 non-null    int8   \n",
            " 16  COMMUNITY           742 non-null    int8   \n",
            " 17  Square feet         742 non-null    float64\n",
            " 18  Square feet range   742 non-null    int8   \n",
            "dtypes: float64(2), int16(1), int64(1), int8(15)\n",
            "memory usage: 29.8 KB\n"
          ],
          "name": "stdout"
        }
      ]
    },
    {
      "cell_type": "code",
      "metadata": {
        "id": "8HtHpoBWmSqK",
        "colab_type": "code",
        "colab": {
          "base_uri": "https://localhost:8080/",
          "height": 235
        },
        "outputId": "9cd6e7d3-140b-45be-bca2-4fe0d76d21c0"
      },
      "source": [
        "from sklearn.impute import KNNImputer\n",
        "\n",
        "imputer = KNNImputer(n_neighbors = 3)\n",
        "df_imputer = imputer.fit_transform(df)\n",
        "df_imputer"
      ],
      "execution_count": null,
      "outputs": [
        {
          "output_type": "execute_result",
          "data": {
            "text/plain": [
              "array([[ 3.60000e+01, -1.00000e+00,  0.00000e+00, ...,  9.00000e+00,\n",
              "         4.59459e+03,  1.00000e+00],\n",
              "       [ 4.40000e+01,  5.00000e+00,  1.00000e+00, ..., -1.00000e+00,\n",
              "         4.58996e+03,  1.00000e+00],\n",
              "       [ 4.70000e+01, -1.00000e+00,  0.00000e+00, ...,  4.00000e+01,\n",
              "         4.32933e+03,  0.00000e+00],\n",
              "       ...,\n",
              "       [ 3.70000e+01,  7.00000e+00,  0.00000e+00, ...,  1.00000e+01,\n",
              "         4.66819e+03,  1.00000e+00],\n",
              "       [ 3.90000e+01,  5.00000e+00,  1.00000e+00, ..., -1.00000e+00,\n",
              "         4.69138e+03,  1.00000e+00],\n",
              "       [ 3.40000e+01,  5.00000e+00,  1.00000e+00, ..., -1.00000e+00,\n",
              "         4.40376e+03,  0.00000e+00]])"
            ]
          },
          "metadata": {
            "tags": []
          },
          "execution_count": 80
        }
      ]
    },
    {
      "cell_type": "code",
      "metadata": {
        "id": "xP0D-bp9mYZ5",
        "colab_type": "code",
        "colab": {
          "base_uri": "https://localhost:8080/",
          "height": 266
        },
        "outputId": "f898aca3-09ad-4784-c1a1-310f7fe354ad"
      },
      "source": [
        "df.head()"
      ],
      "execution_count": null,
      "outputs": [
        {
          "output_type": "execute_result",
          "data": {
            "text/html": [
              "<div>\n",
              "<style scoped>\n",
              "    .dataframe tbody tr th:only-of-type {\n",
              "        vertical-align: middle;\n",
              "    }\n",
              "\n",
              "    .dataframe tbody tr th {\n",
              "        vertical-align: top;\n",
              "    }\n",
              "\n",
              "    .dataframe thead th {\n",
              "        text-align: right;\n",
              "    }\n",
              "</style>\n",
              "<table border=\"1\" class=\"dataframe\">\n",
              "  <thead>\n",
              "    <tr style=\"text-align: right;\">\n",
              "      <th></th>\n",
              "      <th>AGE</th>\n",
              "      <th>CITY/STATE/COUNTRY</th>\n",
              "      <th>BANGALORE(Y/N)</th>\n",
              "      <th>NRI / NON NRI</th>\n",
              "      <th>TYPE OF COMPLEX</th>\n",
              "      <th>multiple complex</th>\n",
              "      <th>FLAT/PLOT</th>\n",
              "      <th>TYPE OF FLAT</th>\n",
              "      <th>PLOT(Y/N)</th>\n",
              "      <th>NO OF PLOTS</th>\n",
              "      <th>TOTAL UNIT COST</th>\n",
              "      <th>YEAR BUCKET</th>\n",
              "      <th>RELIGION SORTED</th>\n",
              "      <th>CATEGORY SORTED</th>\n",
              "      <th>CASTE SORTED</th>\n",
              "      <th>LANGUAGE</th>\n",
              "      <th>COMMUNITY</th>\n",
              "      <th>Square feet</th>\n",
              "      <th>Square feet range</th>\n",
              "    </tr>\n",
              "  </thead>\n",
              "  <tbody>\n",
              "    <tr>\n",
              "      <th>0</th>\n",
              "      <td>NaN</td>\n",
              "      <td>-1</td>\n",
              "      <td>0</td>\n",
              "      <td>-1</td>\n",
              "      <td>14</td>\n",
              "      <td>-1</td>\n",
              "      <td>0</td>\n",
              "      <td>-1</td>\n",
              "      <td>0</td>\n",
              "      <td>0</td>\n",
              "      <td>184</td>\n",
              "      <td>3</td>\n",
              "      <td>1</td>\n",
              "      <td>0</td>\n",
              "      <td>11</td>\n",
              "      <td>3</td>\n",
              "      <td>9</td>\n",
              "      <td>4594.59</td>\n",
              "      <td>1</td>\n",
              "    </tr>\n",
              "    <tr>\n",
              "      <th>1</th>\n",
              "      <td>NaN</td>\n",
              "      <td>5</td>\n",
              "      <td>1</td>\n",
              "      <td>0</td>\n",
              "      <td>14</td>\n",
              "      <td>0</td>\n",
              "      <td>0</td>\n",
              "      <td>-1</td>\n",
              "      <td>0</td>\n",
              "      <td>0</td>\n",
              "      <td>209</td>\n",
              "      <td>3</td>\n",
              "      <td>-1</td>\n",
              "      <td>-1</td>\n",
              "      <td>-1</td>\n",
              "      <td>-1</td>\n",
              "      <td>-1</td>\n",
              "      <td>4589.96</td>\n",
              "      <td>1</td>\n",
              "    </tr>\n",
              "    <tr>\n",
              "      <th>2</th>\n",
              "      <td>NaN</td>\n",
              "      <td>-1</td>\n",
              "      <td>0</td>\n",
              "      <td>-1</td>\n",
              "      <td>14</td>\n",
              "      <td>-1</td>\n",
              "      <td>0</td>\n",
              "      <td>-1</td>\n",
              "      <td>0</td>\n",
              "      <td>0</td>\n",
              "      <td>148</td>\n",
              "      <td>3</td>\n",
              "      <td>4</td>\n",
              "      <td>0</td>\n",
              "      <td>4</td>\n",
              "      <td>28</td>\n",
              "      <td>40</td>\n",
              "      <td>4329.33</td>\n",
              "      <td>0</td>\n",
              "    </tr>\n",
              "    <tr>\n",
              "      <th>3</th>\n",
              "      <td>NaN</td>\n",
              "      <td>5</td>\n",
              "      <td>1</td>\n",
              "      <td>0</td>\n",
              "      <td>14</td>\n",
              "      <td>0</td>\n",
              "      <td>0</td>\n",
              "      <td>-1</td>\n",
              "      <td>0</td>\n",
              "      <td>0</td>\n",
              "      <td>46</td>\n",
              "      <td>3</td>\n",
              "      <td>-1</td>\n",
              "      <td>-1</td>\n",
              "      <td>-1</td>\n",
              "      <td>-1</td>\n",
              "      <td>-1</td>\n",
              "      <td>4278.89</td>\n",
              "      <td>0</td>\n",
              "    </tr>\n",
              "    <tr>\n",
              "      <th>4</th>\n",
              "      <td>NaN</td>\n",
              "      <td>5</td>\n",
              "      <td>1</td>\n",
              "      <td>0</td>\n",
              "      <td>14</td>\n",
              "      <td>0</td>\n",
              "      <td>0</td>\n",
              "      <td>-1</td>\n",
              "      <td>0</td>\n",
              "      <td>0</td>\n",
              "      <td>65</td>\n",
              "      <td>3</td>\n",
              "      <td>-1</td>\n",
              "      <td>-1</td>\n",
              "      <td>-1</td>\n",
              "      <td>-1</td>\n",
              "      <td>-1</td>\n",
              "      <td>4001.25</td>\n",
              "      <td>0</td>\n",
              "    </tr>\n",
              "  </tbody>\n",
              "</table>\n",
              "</div>"
            ],
            "text/plain": [
              "   AGE  CITY/STATE/COUNTRY  ...  Square feet  Square feet range\n",
              "0  NaN                  -1  ...      4594.59                  1\n",
              "1  NaN                   5  ...      4589.96                  1\n",
              "2  NaN                  -1  ...      4329.33                  0\n",
              "3  NaN                   5  ...      4278.89                  0\n",
              "4  NaN                   5  ...      4001.25                  0\n",
              "\n",
              "[5 rows x 19 columns]"
            ]
          },
          "metadata": {
            "tags": []
          },
          "execution_count": 81
        }
      ]
    },
    {
      "cell_type": "code",
      "metadata": {
        "id": "RIHvmlsSmbBS",
        "colab_type": "code",
        "colab": {
          "base_uri": "https://localhost:8080/",
          "height": 472
        },
        "outputId": "a7b33b17-f07a-466c-eae1-5dc16d0347dc"
      },
      "source": [
        "# array to df\n",
        "encode_data = pd.DataFrame(np.round(imputer.fit_transform(df_imputer)), columns= df.columns)\n",
        "encode_data"
      ],
      "execution_count": null,
      "outputs": [
        {
          "output_type": "execute_result",
          "data": {
            "text/html": [
              "<div>\n",
              "<style scoped>\n",
              "    .dataframe tbody tr th:only-of-type {\n",
              "        vertical-align: middle;\n",
              "    }\n",
              "\n",
              "    .dataframe tbody tr th {\n",
              "        vertical-align: top;\n",
              "    }\n",
              "\n",
              "    .dataframe thead th {\n",
              "        text-align: right;\n",
              "    }\n",
              "</style>\n",
              "<table border=\"1\" class=\"dataframe\">\n",
              "  <thead>\n",
              "    <tr style=\"text-align: right;\">\n",
              "      <th></th>\n",
              "      <th>AGE</th>\n",
              "      <th>CITY/STATE/COUNTRY</th>\n",
              "      <th>BANGALORE(Y/N)</th>\n",
              "      <th>NRI / NON NRI</th>\n",
              "      <th>TYPE OF COMPLEX</th>\n",
              "      <th>multiple complex</th>\n",
              "      <th>FLAT/PLOT</th>\n",
              "      <th>TYPE OF FLAT</th>\n",
              "      <th>PLOT(Y/N)</th>\n",
              "      <th>NO OF PLOTS</th>\n",
              "      <th>TOTAL UNIT COST</th>\n",
              "      <th>YEAR BUCKET</th>\n",
              "      <th>RELIGION SORTED</th>\n",
              "      <th>CATEGORY SORTED</th>\n",
              "      <th>CASTE SORTED</th>\n",
              "      <th>LANGUAGE</th>\n",
              "      <th>COMMUNITY</th>\n",
              "      <th>Square feet</th>\n",
              "      <th>Square feet range</th>\n",
              "    </tr>\n",
              "  </thead>\n",
              "  <tbody>\n",
              "    <tr>\n",
              "      <th>0</th>\n",
              "      <td>36.0</td>\n",
              "      <td>-1.0</td>\n",
              "      <td>0.0</td>\n",
              "      <td>-1.0</td>\n",
              "      <td>14.0</td>\n",
              "      <td>-1.0</td>\n",
              "      <td>0.0</td>\n",
              "      <td>-1.0</td>\n",
              "      <td>0.0</td>\n",
              "      <td>0.0</td>\n",
              "      <td>184.0</td>\n",
              "      <td>3.0</td>\n",
              "      <td>1.0</td>\n",
              "      <td>0.0</td>\n",
              "      <td>11.0</td>\n",
              "      <td>3.0</td>\n",
              "      <td>9.0</td>\n",
              "      <td>4595.0</td>\n",
              "      <td>1.0</td>\n",
              "    </tr>\n",
              "    <tr>\n",
              "      <th>1</th>\n",
              "      <td>44.0</td>\n",
              "      <td>5.0</td>\n",
              "      <td>1.0</td>\n",
              "      <td>0.0</td>\n",
              "      <td>14.0</td>\n",
              "      <td>0.0</td>\n",
              "      <td>0.0</td>\n",
              "      <td>-1.0</td>\n",
              "      <td>0.0</td>\n",
              "      <td>0.0</td>\n",
              "      <td>209.0</td>\n",
              "      <td>3.0</td>\n",
              "      <td>-1.0</td>\n",
              "      <td>-1.0</td>\n",
              "      <td>-1.0</td>\n",
              "      <td>-1.0</td>\n",
              "      <td>-1.0</td>\n",
              "      <td>4590.0</td>\n",
              "      <td>1.0</td>\n",
              "    </tr>\n",
              "    <tr>\n",
              "      <th>2</th>\n",
              "      <td>47.0</td>\n",
              "      <td>-1.0</td>\n",
              "      <td>0.0</td>\n",
              "      <td>-1.0</td>\n",
              "      <td>14.0</td>\n",
              "      <td>-1.0</td>\n",
              "      <td>0.0</td>\n",
              "      <td>-1.0</td>\n",
              "      <td>0.0</td>\n",
              "      <td>0.0</td>\n",
              "      <td>148.0</td>\n",
              "      <td>3.0</td>\n",
              "      <td>4.0</td>\n",
              "      <td>0.0</td>\n",
              "      <td>4.0</td>\n",
              "      <td>28.0</td>\n",
              "      <td>40.0</td>\n",
              "      <td>4329.0</td>\n",
              "      <td>0.0</td>\n",
              "    </tr>\n",
              "    <tr>\n",
              "      <th>3</th>\n",
              "      <td>42.0</td>\n",
              "      <td>5.0</td>\n",
              "      <td>1.0</td>\n",
              "      <td>0.0</td>\n",
              "      <td>14.0</td>\n",
              "      <td>0.0</td>\n",
              "      <td>0.0</td>\n",
              "      <td>-1.0</td>\n",
              "      <td>0.0</td>\n",
              "      <td>0.0</td>\n",
              "      <td>46.0</td>\n",
              "      <td>3.0</td>\n",
              "      <td>-1.0</td>\n",
              "      <td>-1.0</td>\n",
              "      <td>-1.0</td>\n",
              "      <td>-1.0</td>\n",
              "      <td>-1.0</td>\n",
              "      <td>4279.0</td>\n",
              "      <td>0.0</td>\n",
              "    </tr>\n",
              "    <tr>\n",
              "      <th>4</th>\n",
              "      <td>43.0</td>\n",
              "      <td>5.0</td>\n",
              "      <td>1.0</td>\n",
              "      <td>0.0</td>\n",
              "      <td>14.0</td>\n",
              "      <td>0.0</td>\n",
              "      <td>0.0</td>\n",
              "      <td>-1.0</td>\n",
              "      <td>0.0</td>\n",
              "      <td>0.0</td>\n",
              "      <td>65.0</td>\n",
              "      <td>3.0</td>\n",
              "      <td>-1.0</td>\n",
              "      <td>-1.0</td>\n",
              "      <td>-1.0</td>\n",
              "      <td>-1.0</td>\n",
              "      <td>-1.0</td>\n",
              "      <td>4001.0</td>\n",
              "      <td>0.0</td>\n",
              "    </tr>\n",
              "    <tr>\n",
              "      <th>...</th>\n",
              "      <td>...</td>\n",
              "      <td>...</td>\n",
              "      <td>...</td>\n",
              "      <td>...</td>\n",
              "      <td>...</td>\n",
              "      <td>...</td>\n",
              "      <td>...</td>\n",
              "      <td>...</td>\n",
              "      <td>...</td>\n",
              "      <td>...</td>\n",
              "      <td>...</td>\n",
              "      <td>...</td>\n",
              "      <td>...</td>\n",
              "      <td>...</td>\n",
              "      <td>...</td>\n",
              "      <td>...</td>\n",
              "      <td>...</td>\n",
              "      <td>...</td>\n",
              "      <td>...</td>\n",
              "    </tr>\n",
              "    <tr>\n",
              "      <th>737</th>\n",
              "      <td>32.0</td>\n",
              "      <td>9.0</td>\n",
              "      <td>0.0</td>\n",
              "      <td>0.0</td>\n",
              "      <td>6.0</td>\n",
              "      <td>-1.0</td>\n",
              "      <td>0.0</td>\n",
              "      <td>14.0</td>\n",
              "      <td>0.0</td>\n",
              "      <td>0.0</td>\n",
              "      <td>359.0</td>\n",
              "      <td>0.0</td>\n",
              "      <td>4.0</td>\n",
              "      <td>0.0</td>\n",
              "      <td>13.0</td>\n",
              "      <td>28.0</td>\n",
              "      <td>40.0</td>\n",
              "      <td>4387.0</td>\n",
              "      <td>0.0</td>\n",
              "    </tr>\n",
              "    <tr>\n",
              "      <th>738</th>\n",
              "      <td>49.0</td>\n",
              "      <td>5.0</td>\n",
              "      <td>1.0</td>\n",
              "      <td>0.0</td>\n",
              "      <td>6.0</td>\n",
              "      <td>0.0</td>\n",
              "      <td>0.0</td>\n",
              "      <td>8.0</td>\n",
              "      <td>0.0</td>\n",
              "      <td>0.0</td>\n",
              "      <td>335.0</td>\n",
              "      <td>0.0</td>\n",
              "      <td>-1.0</td>\n",
              "      <td>-1.0</td>\n",
              "      <td>-1.0</td>\n",
              "      <td>-1.0</td>\n",
              "      <td>-1.0</td>\n",
              "      <td>5024.0</td>\n",
              "      <td>2.0</td>\n",
              "    </tr>\n",
              "    <tr>\n",
              "      <th>739</th>\n",
              "      <td>37.0</td>\n",
              "      <td>7.0</td>\n",
              "      <td>0.0</td>\n",
              "      <td>0.0</td>\n",
              "      <td>6.0</td>\n",
              "      <td>-1.0</td>\n",
              "      <td>0.0</td>\n",
              "      <td>1.0</td>\n",
              "      <td>0.0</td>\n",
              "      <td>0.0</td>\n",
              "      <td>182.0</td>\n",
              "      <td>0.0</td>\n",
              "      <td>1.0</td>\n",
              "      <td>0.0</td>\n",
              "      <td>0.0</td>\n",
              "      <td>3.0</td>\n",
              "      <td>10.0</td>\n",
              "      <td>4668.0</td>\n",
              "      <td>1.0</td>\n",
              "    </tr>\n",
              "    <tr>\n",
              "      <th>740</th>\n",
              "      <td>39.0</td>\n",
              "      <td>5.0</td>\n",
              "      <td>1.0</td>\n",
              "      <td>0.0</td>\n",
              "      <td>6.0</td>\n",
              "      <td>0.0</td>\n",
              "      <td>0.0</td>\n",
              "      <td>14.0</td>\n",
              "      <td>0.0</td>\n",
              "      <td>0.0</td>\n",
              "      <td>555.0</td>\n",
              "      <td>0.0</td>\n",
              "      <td>-1.0</td>\n",
              "      <td>-1.0</td>\n",
              "      <td>-1.0</td>\n",
              "      <td>-1.0</td>\n",
              "      <td>-1.0</td>\n",
              "      <td>4691.0</td>\n",
              "      <td>1.0</td>\n",
              "    </tr>\n",
              "    <tr>\n",
              "      <th>741</th>\n",
              "      <td>34.0</td>\n",
              "      <td>5.0</td>\n",
              "      <td>1.0</td>\n",
              "      <td>0.0</td>\n",
              "      <td>6.0</td>\n",
              "      <td>0.0</td>\n",
              "      <td>0.0</td>\n",
              "      <td>14.0</td>\n",
              "      <td>0.0</td>\n",
              "      <td>0.0</td>\n",
              "      <td>383.0</td>\n",
              "      <td>0.0</td>\n",
              "      <td>-1.0</td>\n",
              "      <td>-1.0</td>\n",
              "      <td>-1.0</td>\n",
              "      <td>-1.0</td>\n",
              "      <td>-1.0</td>\n",
              "      <td>4404.0</td>\n",
              "      <td>0.0</td>\n",
              "    </tr>\n",
              "  </tbody>\n",
              "</table>\n",
              "<p>742 rows × 19 columns</p>\n",
              "</div>"
            ],
            "text/plain": [
              "      AGE  CITY/STATE/COUNTRY  ...  Square feet  Square feet range\n",
              "0    36.0                -1.0  ...       4595.0                1.0\n",
              "1    44.0                 5.0  ...       4590.0                1.0\n",
              "2    47.0                -1.0  ...       4329.0                0.0\n",
              "3    42.0                 5.0  ...       4279.0                0.0\n",
              "4    43.0                 5.0  ...       4001.0                0.0\n",
              "..    ...                 ...  ...          ...                ...\n",
              "737  32.0                 9.0  ...       4387.0                0.0\n",
              "738  49.0                 5.0  ...       5024.0                2.0\n",
              "739  37.0                 7.0  ...       4668.0                1.0\n",
              "740  39.0                 5.0  ...       4691.0                1.0\n",
              "741  34.0                 5.0  ...       4404.0                0.0\n",
              "\n",
              "[742 rows x 19 columns]"
            ]
          },
          "metadata": {
            "tags": []
          },
          "execution_count": 82
        }
      ]
    },
    {
      "cell_type": "code",
      "metadata": {
        "id": "_ygzB-8hme4R",
        "colab_type": "code",
        "colab": {
          "base_uri": "https://localhost:8080/",
          "height": 252
        },
        "outputId": "287ab405-1c89-400c-f7fd-36d36fcb2c81"
      },
      "source": [
        "# Standardize data\n",
        "scaler = StandardScaler()\n",
        "scaled_df = scaler.fit_transform(encode_data)\n",
        "\n",
        "# normalizing the data\n",
        "normalized_df = normalize(scaled_df)\n",
        "\n",
        "# converting the numpy array into a pandas Dataframe\n",
        "normalized_df = pd.DataFrame(normalized_df, columns= encode_data.columns)\n",
        "print(normalized_df)"
      ],
      "execution_count": null,
      "outputs": [
        {
          "output_type": "stream",
          "text": [
            "          AGE  CITY/STATE/COUNTRY  ...  Square feet  Square feet range\n",
            "0   -0.256331           -0.185980  ...    -0.167159          -0.084691\n",
            "1   -0.075097           -0.126915  ...    -0.219547          -0.109409\n",
            "2    0.011070           -0.127135  ...    -0.215622          -0.250531\n",
            "3   -0.110061           -0.100413  ...    -0.350879          -0.374589\n",
            "4   -0.080437           -0.095316  ...    -0.483406          -0.355576\n",
            "..        ...                 ...  ...          ...                ...\n",
            "737 -0.217678           -0.024344  ...    -0.173377          -0.224451\n",
            "738  0.075263           -0.112467  ...     0.082376           0.225648\n",
            "739 -0.257314           -0.076671  ...    -0.140539          -0.094112\n",
            "740 -0.191240           -0.103227  ...    -0.119417          -0.088988\n",
            "741 -0.294014           -0.094431  ...    -0.263004          -0.352272\n",
            "\n",
            "[742 rows x 19 columns]\n"
          ],
          "name": "stdout"
        }
      ]
    },
    {
      "cell_type": "code",
      "metadata": {
        "id": "fU4ILcfKmiE5",
        "colab_type": "code",
        "colab": {
          "base_uri": "https://localhost:8080/",
          "height": 279
        },
        "outputId": "fc9de649-809d-45d7-83fc-05550e41da2f"
      },
      "source": [
        "sse = {}\n",
        "for k in range(1, 10):\n",
        "  kmeans = KMeans(n_clusters=k, max_iter=1000).fit(normalized_df)\n",
        "  sse[k] = kmeans.inertia_\n",
        "plt.figure()\n",
        "plt.plot(list(sse.keys()), list(sse.values()))\n",
        "plt.xlabel(\"Number of cluster\")\n",
        "plt.ylabel(\"SSE\")\n",
        "plt.show()"
      ],
      "execution_count": null,
      "outputs": [
        {
          "output_type": "display_data",
          "data": {
            "image/png": "[encoded data removed]",
            "text/plain": [
              "<Figure size 432x288 with 1 Axes>"
            ]
          },
          "metadata": {
            "tags": [],
            "needs_background": "light"
          }
        }
      ]
    },
    {
      "cell_type": "code",
      "metadata": {
        "id": "3PSOHDM_mk4v",
        "colab_type": "code",
        "colab": {
          "base_uri": "https://localhost:8080/",
          "height": 279
        },
        "outputId": "f81776db-33de-4e8c-d3b5-54ccc5ffe478"
      },
      "source": [
        "silhouette_scores = [] \n",
        "\n",
        "for n_cluster in range(2, 8):\n",
        "    silhouette_scores.append( \n",
        "        silhouette_score(normalized_df, KMeans(n_clusters = n_cluster).fit_predict(normalized_df))) \n",
        "    \n",
        "# Plotting a bar graph to compare the results \n",
        "k = [2, 3, 4, 5, 6,7] \n",
        "plt.bar(k, silhouette_scores) \n",
        "plt.xlabel('Number of clusters', fontsize = 10) \n",
        "plt.ylabel('Silhouette Score', fontsize = 10) \n",
        "plt.show() "
      ],
      "execution_count": null,
      "outputs": [
        {
          "output_type": "display_data",
          "data": {
            "image/png": "[encoded data removed]",
            "text/plain": [
              "<Figure size 432x288 with 1 Axes>"
            ]
          },
          "metadata": {
            "tags": [],
            "needs_background": "light"
          }
        }
      ]
    },
    {
      "cell_type": "markdown",
      "metadata": {
        "id": "xBM_0hoNmu7G",
        "colab_type": "text"
      },
      "source": [
        "optimal cluster 6 \n"
      ]
    },
    {
      "cell_type": "code",
      "metadata": {
        "id": "cNOo1hhamn__",
        "colab_type": "code",
        "colab": {
          "base_uri": "https://localhost:8080/",
          "height": 67
        },
        "outputId": "e1d2351f-7f1b-434c-ae7d-d552fc42ed5e"
      },
      "source": [
        "kmeans = KMeans(n_clusters=4)\n",
        "kmeans.fit(normalized_df)"
      ],
      "execution_count": null,
      "outputs": [
        {
          "output_type": "execute_result",
          "data": {
            "text/plain": [
              "KMeans(algorithm='auto', copy_x=True, init='k-means++', max_iter=300,\n",
              "       n_clusters=4, n_init=10, n_jobs=None, precompute_distances='auto',\n",
              "       random_state=None, tol=0.0001, verbose=0)"
            ]
          },
          "metadata": {
            "tags": []
          },
          "execution_count": 86
        }
      ]
    },
    {
      "cell_type": "code",
      "metadata": {
        "id": "78z8EkEXmtjt",
        "colab_type": "code",
        "colab": {
          "base_uri": "https://localhost:8080/",
          "height": 249
        },
        "outputId": "5f852be6-1511-4f12-bb10-2d0f8f587694"
      },
      "source": [
        "# determine which cluster each dat point belong\n",
        "clusters = kmeans.predict(normalized_df)\n",
        "\n",
        "# add cluster number to orginal data\n",
        "normalized_df['cluster'] = clusters\n",
        "normalized_df.head()"
      ],
      "execution_count": null,
      "outputs": [
        {
          "output_type": "execute_result",
          "data": {
            "text/html": [
              "<div>\n",
              "<style scoped>\n",
              "    .dataframe tbody tr th:only-of-type {\n",
              "        vertical-align: middle;\n",
              "    }\n",
              "\n",
              "    .dataframe tbody tr th {\n",
              "        vertical-align: top;\n",
              "    }\n",
              "\n",
              "    .dataframe thead th {\n",
              "        text-align: right;\n",
              "    }\n",
              "</style>\n",
              "<table border=\"1\" class=\"dataframe\">\n",
              "  <thead>\n",
              "    <tr style=\"text-align: right;\">\n",
              "      <th></th>\n",
              "      <th>AGE</th>\n",
              "      <th>CITY/STATE/COUNTRY</th>\n",
              "      <th>BANGALORE(Y/N)</th>\n",
              "      <th>NRI / NON NRI</th>\n",
              "      <th>TYPE OF COMPLEX</th>\n",
              "      <th>multiple complex</th>\n",
              "      <th>FLAT/PLOT</th>\n",
              "      <th>TYPE OF FLAT</th>\n",
              "      <th>PLOT(Y/N)</th>\n",
              "      <th>NO OF PLOTS</th>\n",
              "      <th>TOTAL UNIT COST</th>\n",
              "      <th>YEAR BUCKET</th>\n",
              "      <th>RELIGION SORTED</th>\n",
              "      <th>CATEGORY SORTED</th>\n",
              "      <th>CASTE SORTED</th>\n",
              "      <th>LANGUAGE</th>\n",
              "      <th>COMMUNITY</th>\n",
              "      <th>Square feet</th>\n",
              "      <th>Square feet range</th>\n",
              "      <th>cluster</th>\n",
              "    </tr>\n",
              "  </thead>\n",
              "  <tbody>\n",
              "    <tr>\n",
              "      <th>0</th>\n",
              "      <td>-0.256331</td>\n",
              "      <td>-0.185980</td>\n",
              "      <td>-0.249094</td>\n",
              "      <td>-0.356839</td>\n",
              "      <td>0.039562</td>\n",
              "      <td>-0.247811</td>\n",
              "      <td>-0.053035</td>\n",
              "      <td>-0.321736</td>\n",
              "      <td>-0.010169</td>\n",
              "      <td>-0.010169</td>\n",
              "      <td>-0.227588</td>\n",
              "      <td>0.292708</td>\n",
              "      <td>0.184723</td>\n",
              "      <td>0.231071</td>\n",
              "      <td>0.527605</td>\n",
              "      <td>-0.042852</td>\n",
              "      <td>0.022489</td>\n",
              "      <td>-0.167159</td>\n",
              "      <td>-0.084691</td>\n",
              "      <td>3</td>\n",
              "    </tr>\n",
              "    <tr>\n",
              "      <th>1</th>\n",
              "      <td>-0.075097</td>\n",
              "      <td>-0.126915</td>\n",
              "      <td>0.397397</td>\n",
              "      <td>0.101599</td>\n",
              "      <td>0.051108</td>\n",
              "      <td>0.386831</td>\n",
              "      <td>-0.068514</td>\n",
              "      <td>-0.415637</td>\n",
              "      <td>-0.013137</td>\n",
              "      <td>-0.013137</td>\n",
              "      <td>-0.250420</td>\n",
              "      <td>0.378138</td>\n",
              "      <td>-0.217724</td>\n",
              "      <td>-0.210673</td>\n",
              "      <td>-0.198468</td>\n",
              "      <td>-0.197367</td>\n",
              "      <td>-0.209673</td>\n",
              "      <td>-0.219547</td>\n",
              "      <td>-0.109409</td>\n",
              "      <td>2</td>\n",
              "    </tr>\n",
              "    <tr>\n",
              "      <th>2</th>\n",
              "      <td>0.011070</td>\n",
              "      <td>-0.127135</td>\n",
              "      <td>-0.170280</td>\n",
              "      <td>-0.243934</td>\n",
              "      <td>0.027044</td>\n",
              "      <td>-0.169403</td>\n",
              "      <td>-0.036255</td>\n",
              "      <td>-0.219938</td>\n",
              "      <td>-0.006951</td>\n",
              "      <td>-0.006951</td>\n",
              "      <td>-0.188795</td>\n",
              "      <td>0.200095</td>\n",
              "      <td>0.488505</td>\n",
              "      <td>0.157960</td>\n",
              "      <td>0.089017</td>\n",
              "      <td>0.440364</td>\n",
              "      <td>0.406976</td>\n",
              "      <td>-0.215622</td>\n",
              "      <td>-0.250531</td>\n",
              "      <td>3</td>\n",
              "    </tr>\n",
              "    <tr>\n",
              "      <th>3</th>\n",
              "      <td>-0.110061</td>\n",
              "      <td>-0.100413</td>\n",
              "      <td>0.314415</td>\n",
              "      <td>0.080384</td>\n",
              "      <td>0.040436</td>\n",
              "      <td>0.306056</td>\n",
              "      <td>-0.054207</td>\n",
              "      <td>-0.328847</td>\n",
              "      <td>-0.010394</td>\n",
              "      <td>-0.010394</td>\n",
              "      <td>-0.422999</td>\n",
              "      <td>0.299177</td>\n",
              "      <td>-0.172260</td>\n",
              "      <td>-0.166682</td>\n",
              "      <td>-0.157025</td>\n",
              "      <td>-0.156154</td>\n",
              "      <td>-0.165891</td>\n",
              "      <td>-0.350879</td>\n",
              "      <td>-0.374589</td>\n",
              "      <td>1</td>\n",
              "    </tr>\n",
              "    <tr>\n",
              "      <th>4</th>\n",
              "      <td>-0.080437</td>\n",
              "      <td>-0.095316</td>\n",
              "      <td>0.298456</td>\n",
              "      <td>0.076303</td>\n",
              "      <td>0.038384</td>\n",
              "      <td>0.290521</td>\n",
              "      <td>-0.051456</td>\n",
              "      <td>-0.312155</td>\n",
              "      <td>-0.009866</td>\n",
              "      <td>-0.009866</td>\n",
              "      <td>-0.376647</td>\n",
              "      <td>0.283992</td>\n",
              "      <td>-0.163517</td>\n",
              "      <td>-0.158221</td>\n",
              "      <td>-0.149055</td>\n",
              "      <td>-0.148228</td>\n",
              "      <td>-0.157470</td>\n",
              "      <td>-0.483406</td>\n",
              "      <td>-0.355576</td>\n",
              "      <td>1</td>\n",
              "    </tr>\n",
              "  </tbody>\n",
              "</table>\n",
              "</div>"
            ],
            "text/plain": [
              "        AGE  CITY/STATE/COUNTRY  ...  Square feet range  cluster\n",
              "0 -0.256331           -0.185980  ...          -0.084691        3\n",
              "1 -0.075097           -0.126915  ...          -0.109409        2\n",
              "2  0.011070           -0.127135  ...          -0.250531        3\n",
              "3 -0.110061           -0.100413  ...          -0.374589        1\n",
              "4 -0.080437           -0.095316  ...          -0.355576        1\n",
              "\n",
              "[5 rows x 20 columns]"
            ]
          },
          "metadata": {
            "tags": []
          },
          "execution_count": 87
        }
      ]
    },
    {
      "cell_type": "code",
      "metadata": {
        "id": "loWdDw2bm08L",
        "colab_type": "code",
        "colab": {
          "base_uri": "https://localhost:8080/",
          "height": 151
        },
        "outputId": "bb37505b-056b-413b-8e90-9ff9c820ee9b"
      },
      "source": [
        "from sklearn.preprocessing import MinMaxScaler\n",
        "scaler = MinMaxScaler()\n",
        "df_scaled = pd.DataFrame(scaler.fit_transform(encode_data),columns = encode_data.columns)\n",
        "df_scaled['kmeans'] = kmeans.labels_\n",
        "df_mean = (df_scaled.loc[: , :]\n",
        "                    .groupby('kmeans').mean())\n",
        "\n",
        "print(df_mean)"
      ],
      "execution_count": null,
      "outputs": [
        {
          "output_type": "stream",
          "text": [
            "             AGE  CITY/STATE/COUNTRY  ...  Square feet  Square feet range\n",
            "kmeans                                ...                                \n",
            "0       0.369675            0.604501  ...     0.460427           0.385294\n",
            "1       0.343840            0.055713  ...     0.178613           0.092708\n",
            "2       0.431578            0.090909  ...     0.408924           0.329730\n",
            "3       0.317619            0.155698  ...     0.329986           0.258333\n",
            "\n",
            "[4 rows x 19 columns]\n"
          ],
          "name": "stdout"
        }
      ]
    },
    {
      "cell_type": "code",
      "metadata": {
        "id": "iXW1_iUem6zm",
        "colab_type": "code",
        "colab": {
          "base_uri": "https://localhost:8080/",
          "height": 842
        },
        "outputId": "3e804014-49ab-4c28-a6f9-25c04bef2d04"
      },
      "source": [
        "dt['cluster'] =clusters\n",
        "dt"
      ],
      "execution_count": null,
      "outputs": [
        {
          "output_type": "execute_result",
          "data": {
            "text/html": [
              "<div>\n",
              "<style scoped>\n",
              "    .dataframe tbody tr th:only-of-type {\n",
              "        vertical-align: middle;\n",
              "    }\n",
              "\n",
              "    .dataframe tbody tr th {\n",
              "        vertical-align: top;\n",
              "    }\n",
              "\n",
              "    .dataframe thead th {\n",
              "        text-align: right;\n",
              "    }\n",
              "</style>\n",
              "<table border=\"1\" class=\"dataframe\">\n",
              "  <thead>\n",
              "    <tr style=\"text-align: right;\">\n",
              "      <th></th>\n",
              "      <th>AGE</th>\n",
              "      <th>ADDRESS</th>\n",
              "      <th>AREA</th>\n",
              "      <th>CITY/STATE/COUNTRY</th>\n",
              "      <th>BANGALORE(Y/N)</th>\n",
              "      <th>NRI / NON NRI</th>\n",
              "      <th>PINCODE</th>\n",
              "      <th>TYPE OF COMPLEX</th>\n",
              "      <th>multiple complex</th>\n",
              "      <th>FLAT/PLOT</th>\n",
              "      <th>TYPE OF FLAT</th>\n",
              "      <th>PLOT(Y/N)</th>\n",
              "      <th>NO OF PLOTS</th>\n",
              "      <th>TOTAL UNIT COST</th>\n",
              "      <th>YEAR BUCKET</th>\n",
              "      <th>RELIGION SORTED</th>\n",
              "      <th>CATEGORY SORTED</th>\n",
              "      <th>CASTE SORTED</th>\n",
              "      <th>LANGUAGE</th>\n",
              "      <th>COMMUNITY</th>\n",
              "      <th>Square feet</th>\n",
              "      <th>Square feet range</th>\n",
              "      <th>cluster</th>\n",
              "    </tr>\n",
              "  </thead>\n",
              "  <tbody>\n",
              "    <tr>\n",
              "      <th>0</th>\n",
              "      <td>NaN</td>\n",
              "      <td>0</td>\n",
              "      <td>NaN</td>\n",
              "      <td>NaN</td>\n",
              "      <td>N</td>\n",
              "      <td>NaN</td>\n",
              "      <td>0</td>\n",
              "      <td>Aqua</td>\n",
              "      <td>NaN</td>\n",
              "      <td>FLAT</td>\n",
              "      <td>NaN</td>\n",
              "      <td>N</td>\n",
              "      <td>0</td>\n",
              "      <td>5260810</td>\n",
              "      <td>YR_5</td>\n",
              "      <td>Hindu</td>\n",
              "      <td>General</td>\n",
              "      <td>OtherUpperCaste</td>\n",
              "      <td>Bengali</td>\n",
              "      <td>Bengali,Odiya,Punjabi</td>\n",
              "      <td>4594.59</td>\n",
              "      <td>4500 to 5000</td>\n",
              "      <td>3</td>\n",
              "    </tr>\n",
              "    <tr>\n",
              "      <th>1</th>\n",
              "      <td>NaN</td>\n",
              "      <td>Mr. Savina G B No.13 Gare Ravikumar Layout Byc...</td>\n",
              "      <td>Devanahalli</td>\n",
              "      <td>BANGALORE</td>\n",
              "      <td>Y</td>\n",
              "      <td>NO</td>\n",
              "      <td>562110</td>\n",
              "      <td>Aqua</td>\n",
              "      <td>No</td>\n",
              "      <td>FLAT</td>\n",
              "      <td>NaN</td>\n",
              "      <td>N</td>\n",
              "      <td>0</td>\n",
              "      <td>5526317</td>\n",
              "      <td>YR_5</td>\n",
              "      <td>NaN</td>\n",
              "      <td>NaN</td>\n",
              "      <td>NaN</td>\n",
              "      <td>NaN</td>\n",
              "      <td>NaN</td>\n",
              "      <td>4589.96</td>\n",
              "      <td>4500 to 5000</td>\n",
              "      <td>2</td>\n",
              "    </tr>\n",
              "    <tr>\n",
              "      <th>2</th>\n",
              "      <td>NaN</td>\n",
              "      <td>0</td>\n",
              "      <td>NaN</td>\n",
              "      <td>NaN</td>\n",
              "      <td>N</td>\n",
              "      <td>NaN</td>\n",
              "      <td>0</td>\n",
              "      <td>Aqua</td>\n",
              "      <td>NaN</td>\n",
              "      <td>FLAT</td>\n",
              "      <td>NaN</td>\n",
              "      <td>N</td>\n",
              "      <td>0</td>\n",
              "      <td>5022020</td>\n",
              "      <td>YR_5</td>\n",
              "      <td>Sikh</td>\n",
              "      <td>General</td>\n",
              "      <td>Jatt</td>\n",
              "      <td>Punjabi</td>\n",
              "      <td>Punjabi</td>\n",
              "      <td>4329.33</td>\n",
              "      <td>4000 to 4500</td>\n",
              "      <td>3</td>\n",
              "    </tr>\n",
              "    <tr>\n",
              "      <th>3</th>\n",
              "      <td>NaN</td>\n",
              "      <td>Mr.Umer Farooque.P#251st Cross 1st Main L  B S...</td>\n",
              "      <td>H.A.L</td>\n",
              "      <td>BANGALORE</td>\n",
              "      <td>Y</td>\n",
              "      <td>NO</td>\n",
              "      <td>560017</td>\n",
              "      <td>Aqua</td>\n",
              "      <td>No</td>\n",
              "      <td>FLAT</td>\n",
              "      <td>NaN</td>\n",
              "      <td>N</td>\n",
              "      <td>0</td>\n",
              "      <td>4009324</td>\n",
              "      <td>YR_5</td>\n",
              "      <td>NaN</td>\n",
              "      <td>NaN</td>\n",
              "      <td>NaN</td>\n",
              "      <td>NaN</td>\n",
              "      <td>NaN</td>\n",
              "      <td>4278.89</td>\n",
              "      <td>4000 to 4500</td>\n",
              "      <td>1</td>\n",
              "    </tr>\n",
              "    <tr>\n",
              "      <th>4</th>\n",
              "      <td>NaN</td>\n",
              "      <td>Mr. Ramesh SEmp.No.2720 Honeywell #151/1 Dorai...</td>\n",
              "      <td>Deepanjalinagar</td>\n",
              "      <td>BANGALORE</td>\n",
              "      <td>Y</td>\n",
              "      <td>NO</td>\n",
              "      <td>560026</td>\n",
              "      <td>Aqua</td>\n",
              "      <td>No</td>\n",
              "      <td>FLAT</td>\n",
              "      <td>NaN</td>\n",
              "      <td>N</td>\n",
              "      <td>0</td>\n",
              "      <td>4581436</td>\n",
              "      <td>YR_5</td>\n",
              "      <td>NaN</td>\n",
              "      <td>NaN</td>\n",
              "      <td>NaN</td>\n",
              "      <td>NaN</td>\n",
              "      <td>NaN</td>\n",
              "      <td>4001.25</td>\n",
              "      <td>4000 to 4500</td>\n",
              "      <td>1</td>\n",
              "    </tr>\n",
              "    <tr>\n",
              "      <th>...</th>\n",
              "      <td>...</td>\n",
              "      <td>...</td>\n",
              "      <td>...</td>\n",
              "      <td>...</td>\n",
              "      <td>...</td>\n",
              "      <td>...</td>\n",
              "      <td>...</td>\n",
              "      <td>...</td>\n",
              "      <td>...</td>\n",
              "      <td>...</td>\n",
              "      <td>...</td>\n",
              "      <td>...</td>\n",
              "      <td>...</td>\n",
              "      <td>...</td>\n",
              "      <td>...</td>\n",
              "      <td>...</td>\n",
              "      <td>...</td>\n",
              "      <td>...</td>\n",
              "      <td>...</td>\n",
              "      <td>...</td>\n",
              "      <td>...</td>\n",
              "      <td>...</td>\n",
              "      <td>...</td>\n",
              "    </tr>\n",
              "    <tr>\n",
              "      <th>737</th>\n",
              "      <td>32.0</td>\n",
              "      <td>Jail Road, Near East, D.M Kothi Gate, Gewalbig...</td>\n",
              "      <td>NaN</td>\n",
              "      <td>BIHAR</td>\n",
              "      <td>N</td>\n",
              "      <td>NO</td>\n",
              "      <td>823001</td>\n",
              "      <td>AVENUE</td>\n",
              "      <td>NaN</td>\n",
              "      <td>FLAT</td>\n",
              "      <td>3 BHK</td>\n",
              "      <td>N</td>\n",
              "      <td>0</td>\n",
              "      <td>6446739</td>\n",
              "      <td>YR_1</td>\n",
              "      <td>Sikh</td>\n",
              "      <td>General</td>\n",
              "      <td>Punjabi</td>\n",
              "      <td>Punjabi</td>\n",
              "      <td>Punjabi</td>\n",
              "      <td>4387.00</td>\n",
              "      <td>4000 to 4500</td>\n",
              "      <td>3</td>\n",
              "    </tr>\n",
              "    <tr>\n",
              "      <th>738</th>\n",
              "      <td>49.0</td>\n",
              "      <td>06, ASD Complex Bharti Nagar, H M Halli Post, ...</td>\n",
              "      <td>Vidyanagara</td>\n",
              "      <td>BANGALORE</td>\n",
              "      <td>Y</td>\n",
              "      <td>NO</td>\n",
              "      <td>562157</td>\n",
              "      <td>AVENUE</td>\n",
              "      <td>No</td>\n",
              "      <td>FLAT</td>\n",
              "      <td>2.5 BH</td>\n",
              "      <td>N</td>\n",
              "      <td>0</td>\n",
              "      <td>6287877</td>\n",
              "      <td>YR_1</td>\n",
              "      <td>NaN</td>\n",
              "      <td>NaN</td>\n",
              "      <td>NaN</td>\n",
              "      <td>NaN</td>\n",
              "      <td>NaN</td>\n",
              "      <td>5023.73</td>\n",
              "      <td>5000 to 5500</td>\n",
              "      <td>2</td>\n",
              "    </tr>\n",
              "    <tr>\n",
              "      <th>739</th>\n",
              "      <td>37.0</td>\n",
              "      <td>Aashavilla, 2nd floor, flat 4, 17, Kalupara La...</td>\n",
              "      <td>NaN</td>\n",
              "      <td>BENGAL</td>\n",
              "      <td>N</td>\n",
              "      <td>NO</td>\n",
              "      <td>700031</td>\n",
              "      <td>AVENUE</td>\n",
              "      <td>NaN</td>\n",
              "      <td>FLAT</td>\n",
              "      <td>2 BHK</td>\n",
              "      <td>N</td>\n",
              "      <td>0</td>\n",
              "      <td>5255557</td>\n",
              "      <td>YR_1</td>\n",
              "      <td>Hindu</td>\n",
              "      <td>General</td>\n",
              "      <td>Bania</td>\n",
              "      <td>Bengali</td>\n",
              "      <td>BengaliBaniya</td>\n",
              "      <td>4668.19</td>\n",
              "      <td>4500 to 5000</td>\n",
              "      <td>3</td>\n",
              "    </tr>\n",
              "    <tr>\n",
              "      <th>740</th>\n",
              "      <td>39.0</td>\n",
              "      <td>A2-302, Tungabhadra Block, National Game Villa...</td>\n",
              "      <td>Kormangala</td>\n",
              "      <td>BANGALORE</td>\n",
              "      <td>Y</td>\n",
              "      <td>NO</td>\n",
              "      <td>560047</td>\n",
              "      <td>AVENUE</td>\n",
              "      <td>No</td>\n",
              "      <td>FLAT</td>\n",
              "      <td>3 BHK</td>\n",
              "      <td>N</td>\n",
              "      <td>0</td>\n",
              "      <td>8171066</td>\n",
              "      <td>YR_1</td>\n",
              "      <td>NaN</td>\n",
              "      <td>NaN</td>\n",
              "      <td>NaN</td>\n",
              "      <td>NaN</td>\n",
              "      <td>NaN</td>\n",
              "      <td>4691.38</td>\n",
              "      <td>4500 to 5000</td>\n",
              "      <td>2</td>\n",
              "    </tr>\n",
              "    <tr>\n",
              "      <th>741</th>\n",
              "      <td>34.0</td>\n",
              "      <td>No.2 1st Cross, Anjana Layout, Near Brindavan ...</td>\n",
              "      <td>Hebbal</td>\n",
              "      <td>BANGALORE</td>\n",
              "      <td>Y</td>\n",
              "      <td>NO</td>\n",
              "      <td>560024</td>\n",
              "      <td>AVENUE</td>\n",
              "      <td>No</td>\n",
              "      <td>FLAT</td>\n",
              "      <td>3 BHK</td>\n",
              "      <td>N</td>\n",
              "      <td>0</td>\n",
              "      <td>6608946</td>\n",
              "      <td>YR_1</td>\n",
              "      <td>NaN</td>\n",
              "      <td>NaN</td>\n",
              "      <td>NaN</td>\n",
              "      <td>NaN</td>\n",
              "      <td>NaN</td>\n",
              "      <td>4403.76</td>\n",
              "      <td>4000 to 4500</td>\n",
              "      <td>2</td>\n",
              "    </tr>\n",
              "  </tbody>\n",
              "</table>\n",
              "<p>742 rows × 23 columns</p>\n",
              "</div>"
            ],
            "text/plain": [
              "      AGE  ... cluster\n",
              "0     NaN  ...       3\n",
              "1     NaN  ...       2\n",
              "2     NaN  ...       3\n",
              "3     NaN  ...       1\n",
              "4     NaN  ...       1\n",
              "..    ...  ...     ...\n",
              "737  32.0  ...       3\n",
              "738  49.0  ...       2\n",
              "739  37.0  ...       3\n",
              "740  39.0  ...       2\n",
              "741  34.0  ...       2\n",
              "\n",
              "[742 rows x 23 columns]"
            ]
          },
          "metadata": {
            "tags": []
          },
          "execution_count": 89
        }
      ]
    },
    {
      "cell_type": "code",
      "metadata": {
        "id": "4P1ybTrlnEDZ",
        "colab_type": "code",
        "colab": {
          "base_uri": "https://localhost:8080/",
          "height": 343
        },
        "outputId": "d0d2189e-2783-4579-fb5b-9bffb0e1ad67"
      },
      "source": [
        "plt.figure(figsize=(20,5))\n",
        "\n",
        "results = pd.DataFrame(columns=['Variable', 'Var'])\n",
        "for column in df_mean.columns[1:]:\n",
        "    results.loc[len(results), :] = [column, np.var(normalized_df[column])]\n",
        "selected_columns = list(results.sort_values(\n",
        "        'Var', ascending=False,\n",
        "    ).head(7).Variable.values) + ['kmeans']\n",
        "tidy = df_scaled[selected_columns].melt(id_vars='kmeans')\n",
        "sns.barplot(x='kmeans', y='value', hue='variable', data=tidy)"
      ],
      "execution_count": null,
      "outputs": [
        {
          "output_type": "execute_result",
          "data": {
            "text/plain": [
              "<matplotlib.axes._subplots.AxesSubplot at 0x7f4425449320>"
            ]
          },
          "metadata": {
            "tags": []
          },
          "execution_count": 90
        },
        {
          "output_type": "display_data",
          "data": {
            "image/png": "[encoded data removed]",
            "text/plain": [
              "<Figure size 1440x360 with 1 Axes>"
            ]
          },
          "metadata": {
            "tags": [],
            "needs_background": "light"
          }
        }
      ]
    },
    {
      "cell_type": "code",
      "metadata": {
        "id": "gBfZGrP8nHZB",
        "colab_type": "code",
        "colab": {
          "base_uri": "https://localhost:8080/",
          "height": 34
        },
        "outputId": "25150cdc-f254-427a-e1f8-c99bc757536d"
      },
      "source": [
        "c = dt['NRI / NON NRI'].astype('category')\n",
        "\n",
        "d = dict(enumerate(c.cat.categories))\n",
        "print(d)"
      ],
      "execution_count": null,
      "outputs": [
        {
          "output_type": "stream",
          "text": [
            "{0: 'NO', 1: 'YES'}\n"
          ],
          "name": "stdout"
        }
      ]
    },
    {
      "cell_type": "code",
      "metadata": {
        "id": "wxREwyj4nK-l",
        "colab_type": "code",
        "colab": {
          "base_uri": "https://localhost:8080/",
          "height": 34
        },
        "outputId": "b9e82c86-c294-403d-bc55-ed0bcf39b9b4"
      },
      "source": [
        "c = dt['BANGALORE(Y/N)'].astype('category')\n",
        "\n",
        "d = dict(enumerate(c.cat.categories))\n",
        "print(d)"
      ],
      "execution_count": null,
      "outputs": [
        {
          "output_type": "stream",
          "text": [
            "{0: 'N', 1: 'Y'}\n"
          ],
          "name": "stdout"
        }
      ]
    },
    {
      "cell_type": "code",
      "metadata": {
        "id": "BVYkyriZnLfY",
        "colab_type": "code",
        "colab": {
          "base_uri": "https://localhost:8080/",
          "height": 54
        },
        "outputId": "923e0ad0-08e4-4bc5-fbfb-3cafd24db5b7"
      },
      "source": [
        "c = dt['TYPE OF FLAT'].astype('category')\n",
        "\n",
        "d = dict(enumerate(c.cat.categories))\n",
        "print(d)"
      ],
      "execution_count": null,
      "outputs": [
        {
          "output_type": "stream",
          "text": [
            "{0: '1 BHK', 1: '2 BHK', 2: '2 BHK ,2 BHK', 3: '2 BHK ,2 BHK ,2 BHK', 4: '2 BHK ,2 BHK ,2 BHK ,2 BHK', 5: '2 BHK ,3 BHK', 6: '2 BHK ,Duplex', 7: '2 BHK ,Plot -', 8: '2.5 BH', 9: '2.5 BH,2 BHK', 10: '2.5 BH,2.5 BH', 11: '2.5 BH,2.5 BH,3 BHK', 12: '2.5 BH,2.5 BH,3 BHK ,3 BHK ,3 BHK ,2.5 BH', 13: '2.5 BH,3 BHK', 14: '3 BHK', 15: '3 BHK ,2 BHK', 16: '3 BHK ,2.5 BH', 17: '3 BHK ,3 BHK', 18: '3 BHK ,3 BHK ,3 BHK', 19: '3 BHK ,3 BHK ,Duplex', 20: '3 BHK ,4 BHK', 21: '3 BHK ,4 BHK ,3 BHK', 22: '3BHK +', 23: '3BHK -', 24: '4 BHK', 25: '4 BHK ,3 BHK', 26: 'Duplex'}\n"
          ],
          "name": "stdout"
        }
      ]
    },
    {
      "cell_type": "code",
      "metadata": {
        "id": "l1T17V88nMKN",
        "colab_type": "code",
        "colab": {
          "base_uri": "https://localhost:8080/",
          "height": 54
        },
        "outputId": "d427d047-8cf1-4669-87de-823431d24ef5"
      },
      "source": [
        "c = dt['CITY/STATE/COUNTRY'].astype('category')\n",
        "\n",
        "d = dict(enumerate(c.cat.categories))\n",
        "print(d)"
      ],
      "execution_count": null,
      "outputs": [
        {
          "output_type": "stream",
          "text": [
            "{0: 'ABU DHABI', 1: 'ABUDHABI', 2: 'ANDHRA PRADESH', 3: 'AUSTRALIA', 4: 'BAHRAIN', 5: 'BANGALORE', 6: 'BELLARY', 7: 'BENGAL', 8: 'BHOPAL', 9: 'BIHAR', 10: 'BOX', 11: 'CHENNAI', 12: 'COIMBATORE', 13: 'DELHI', 14: 'DOHA', 15: 'DUBAI', 16: 'DUBAIUAE', 17: 'ENGLAND', 18: 'GOA', 19: 'GUJARAT', 20: 'GUWAHATI', 21: 'HARIHAR', 22: 'HUBLI', 23: 'HyDERABAD', 24: 'IISC', 25: 'INDONESIA', 26: 'JAMMU', 27: 'JAMSHEDPUR', 28: 'JHARKAND', 29: 'JUBAIL', 30: 'KARNATAKA', 31: 'KASHMIR', 32: 'KERALA', 33: 'KINGDOM', 34: 'KOLKATA', 35: 'KOLKATTA', 36: 'KUWAIT', 37: 'MALAYSIA', 38: 'MP', 39: 'MUMBAI', 40: 'MUSCAT', 41: 'MYSORE', 42: 'NAKODAR', 43: 'NASIK', 44: 'OMAN', 45: 'PALGHAT', 46: 'PRADESH', 47: 'PUNE', 48: 'PUNJAB', 49: 'QATAR', 50: 'RAWCHI', 51: 'SAUDI ARABIA', 52: 'SHANTINAGAR', 53: 'SINGAPORE', 54: 'TAMIL NADU', 55: 'TELANGANA', 56: 'THANE', 57: 'THIRUVANKULAM', 58: 'UAE', 59: 'UK', 60: 'UP', 61: 'USA', 62: 'USE', 63: 'UTTARAKHAND', 64: 'VIDYARANYAPURA', 65: 'WESTBENGAL'}\n"
          ],
          "name": "stdout"
        }
      ]
    },
    {
      "cell_type": "code",
      "metadata": {
        "id": "unwxQxGynhNN",
        "colab_type": "code",
        "colab": {
          "base_uri": "https://localhost:8080/",
          "height": 54
        },
        "outputId": "4d69fea6-0a2d-4b4f-90ae-38744644f164"
      },
      "source": [
        "c = dt['LANGUAGE'].astype('category')\n",
        "\n",
        "d = dict(enumerate(c.cat.categories))\n",
        "print(d)"
      ],
      "execution_count": null,
      "outputs": [
        {
          "output_type": "stream",
          "text": [
            "{0: 'Asamese,Hindi', 1: 'Assamese', 2: 'Awadhi,BhojpuriorBraj', 3: 'Bengali', 4: 'Bengali,Hindi,Nepali', 5: 'Bengali,Telugu', 6: 'Gujarati', 7: 'Hind', 8: 'Hindi', 9: 'Hindi(Awadhi,BhojpuriorBraj),Marathi', 10: 'Hindi,Bengali,Odiya,Assamese', 11: 'Hindi,BengaliandAssamese', 12: 'Hindi,Chattisgarhi', 13: 'Hindi,Chhattisgarhi', 14: 'Hindi,Nepali', 15: 'Hindi,Rajastani', 16: 'Hindi.Kashmiri', 17: 'Kannada,Hindi,Telugu,Marati', 18: 'MaharashtrianandKannad', 19: 'Malayalam,tamil', 20: 'Marathi,Hindi', 21: 'Marwari,Hindi,Garhwali', 22: 'Nepali', 23: 'Odiya', 24: 'Oriya', 25: 'OtherLanguage', 26: 'OtherList', 27: 'Pubnjabi', 28: 'Punjabi', 29: 'Punjabi,Gujrati&Hindi', 30: 'Rajasthani', 31: 'Tamil,Malayalam', 32: 'Telegu', 33: 'Telugu', 34: 'Urdu'}\n"
          ],
          "name": "stdout"
        }
      ]
    },
    {
      "cell_type": "code",
      "metadata": {
        "id": "tHygtY0pnhod",
        "colab_type": "code",
        "colab": {
          "base_uri": "https://localhost:8080/",
          "height": 34
        },
        "outputId": "1977b4af-b43f-4991-92bb-2c28aaf22428"
      },
      "source": [
        "c = dt['FLAT/PLOT'].astype('category')\n",
        "\n",
        "d = dict(enumerate(c.cat.categories))\n",
        "print(d)"
      ],
      "execution_count": null,
      "outputs": [
        {
          "output_type": "stream",
          "text": [
            "{0: 'FLAT', 1: 'FLAT,FLAT', 2: 'FLAT,FLAT,FLAT', 3: 'FLAT,FLAT,FLAT,FLAT', 4: 'FLAT,FLAT,FLAT,FLAT,FLAT,FLAT,FLAT', 5: 'FLAT,PLOT'}\n"
          ],
          "name": "stdout"
        }
      ]
    },
    {
      "cell_type": "code",
      "metadata": {
        "id": "FzAMDavZnntp",
        "colab_type": "code",
        "colab": {
          "base_uri": "https://localhost:8080/",
          "height": 34
        },
        "outputId": "5bffed32-e46b-496c-96b9-029cea6300f9"
      },
      "source": [
        "c = dt['RELIGION SORTED'].astype('category')\n",
        "\n",
        "d = dict(enumerate(c.cat.categories))\n",
        "print(d)"
      ],
      "execution_count": null,
      "outputs": [
        {
          "output_type": "stream",
          "text": [
            "{0: 'Christain', 1: 'Hindu', 2: 'Muslim', 3: 'OtherList', 4: 'Sikh'}\n"
          ],
          "name": "stdout"
        }
      ]
    },
    {
      "cell_type": "code",
      "metadata": {
        "id": "YbEU6DSJnrIk",
        "colab_type": "code",
        "colab": {
          "base_uri": "https://localhost:8080/",
          "height": 54
        },
        "outputId": "79fe0fc3-cc8b-4039-a0e0-40c61cf28e2d"
      },
      "source": [
        "c = dt['COMMUNITY'].astype('category')\n",
        "\n",
        "d = dict(enumerate(c.cat.categories))\n",
        "print(d)"
      ],
      "execution_count": null,
      "outputs": [
        {
          "output_type": "stream",
          "text": [
            "{0: 0, 1: '(NorthIndia)Himachal,Rajasthan,Uttarakhand,U.P,Delhi', 2: 'Andhra', 3: 'AndhraPradesh', 4: 'AndraPradesh,Bengal', 5: 'Baidya', 6: 'Bania(Jain/Hindu)', 7: 'Baniya', 8: 'Bengali', 9: 'Bengali,Odiya,Punjabi', 10: 'BengaliBaniya', 11: 'BengaliGandhabanik', 12: 'BengaliKayasthas', 13: 'Brahmin', 14: 'Chamar', 15: 'Chattisgarhi', 16: 'Chhattisgarh', 17: 'DeshasthaBrahmins', 18: 'Gujarati', 19: 'Jain,HinduTraders', 20: 'Jat', 21: 'Karnataka,Maharastra,Rajastan,Andrapradesh,Telungana,Haryana', 22: 'KashmiriPandit', 23: 'Kayastha', 24: 'KayasthaofNorthIndia', 25: 'Kerala,Tamilnadu', 26: 'Khatri', 27: 'Khatris', 28: 'Landowners', 29: 'MadhyaPradesh', 30: 'MairRajputs/SikhRajputs', 31: 'Marathi', 32: 'MerchantCommunity', 33: 'Milkman', 34: 'Nepal', 35: 'Northernstates', 36: 'Orissa', 37: 'OtherList', 38: 'Peasant/PastoralCommunity', 39: 'Punjab,Southernstates', 40: 'Punjabi', 41: 'Punjabi,NimarregionofGujarat&MP', 42: 'PunjabiBrahmin', 43: 'PunjabiKhatri', 44: 'Rajasthani', 45: 'Rajput/KhatriofNorthIndia', 46: 'Sunar,Lohar', 47: 'UttarPradesh', 48: 'Westbengal'}\n"
          ],
          "name": "stdout"
        }
      ]
    },
    {
      "cell_type": "code",
      "metadata": {
        "id": "UGbbVHHhny0T",
        "colab_type": "code",
        "colab": {
          "base_uri": "https://localhost:8080/",
          "height": 252
        },
        "outputId": "9139e694-3b56-4a87-dcd8-b34dd11fbd72"
      },
      "source": [
        "dt['code'] = dt['LANGUAGE'].astype('category').cat.codes\n",
        "\n",
        "dt['level_back'] = dt['code'].map(d)\n",
        "print(dt)\n",
        "\n",
        "dt.to_csv(\"LANGU.csv\")"
      ],
      "execution_count": null,
      "outputs": [
        {
          "output_type": "stream",
          "text": [
            "      AGE                                            ADDRESS  ... code level_back\n",
            "0     NaN                                                  0  ...    3    Bengali\n",
            "1     NaN  Mr. Savina G B No.13 Gare Ravikumar Layout Byc...  ...   -1        NaN\n",
            "2     NaN                                                  0  ...   28    Punjabi\n",
            "3     NaN  Mr.Umer Farooque.P#251st Cross 1st Main L  B S...  ...   -1        NaN\n",
            "4     NaN  Mr. Ramesh SEmp.No.2720 Honeywell #151/1 Dorai...  ...   -1        NaN\n",
            "..    ...                                                ...  ...  ...        ...\n",
            "737  32.0  Jail Road, Near East, D.M Kothi Gate, Gewalbig...  ...   28    Punjabi\n",
            "738  49.0  06, ASD Complex Bharti Nagar, H M Halli Post, ...  ...   -1        NaN\n",
            "739  37.0  Aashavilla, 2nd floor, flat 4, 17, Kalupara La...  ...    3    Bengali\n",
            "740  39.0  A2-302, Tungabhadra Block, National Game Villa...  ...   -1        NaN\n",
            "741  34.0  No.2 1st Cross, Anjana Layout, Near Brindavan ...  ...   -1        NaN\n",
            "\n",
            "[742 rows x 25 columns]\n"
          ],
          "name": "stdout"
        }
      ]
    },
    {
      "cell_type": "code",
      "metadata": {
        "id": "J5x8H9eA8bXN",
        "colab_type": "code",
        "colab": {}
      },
      "source": [
        ""
      ],
      "execution_count": null,
      "outputs": []
    }
  ]
}